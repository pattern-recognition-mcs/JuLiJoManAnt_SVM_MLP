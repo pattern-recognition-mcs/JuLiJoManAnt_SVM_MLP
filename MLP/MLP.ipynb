{
 "cells": [
  {
   "cell_type": "markdown",
   "metadata": {},
   "source": [
    "### Choice of pytorch\n",
    "\n",
    "* Easy to use\n",
    "* Dynamic gestion of the computational graph\n",
    "* Well used in research\n",
    "* Good documentation\n"
   ]
  },
  {
   "cell_type": "code",
   "execution_count": 1,
   "metadata": {},
   "outputs": [],
   "source": [
    "# Import module\n",
    "%matplotlib inline\n",
    "import matplotlib.pyplot as plt\n",
    "import numpy as np\n",
    "import torch\n",
    "import torch.nn as nn\n",
    "\n",
    "from copy import deepcopy\n",
    "from itertools import product\n",
    "from torch.utils.data import Dataset\n",
    "from torch.utils.data import DataLoader\n",
    "\n",
    "from train_tools import TrainHelper"
   ]
  },
  {
   "cell_type": "code",
   "execution_count": 2,
   "metadata": {},
   "outputs": [
    {
     "name": "stdout",
     "output_type": "stream",
     "text": [
      "> mnist_train.csv loaded\n",
      "> mnist_test.csv loaded\n"
     ]
    }
   ],
   "source": [
    "# load data\n",
    "TRAIN_DATASET = \"./../data/csv/mnist_train.csv\"\n",
    "TEST_DATASET = \"./../data/csv/mnist_test.csv\"\n",
    "\n",
    "\n",
    "def load_data(filename):\n",
    "    \"\"\"Load the data of the file given in parameter.\"\"\"\n",
    "    \n",
    "    data = np.loadtxt(filename, delimiter=\",\")\n",
    "    train = np.asfarray(data[:, 1:])\n",
    "    labels = np.reshape(data[:, :1], -1)\n",
    "\n",
    "    print(\"> {} loaded\".format(filename.split(\"/\")[-1]))\n",
    "    \n",
    "    return train, labels\n",
    "\n",
    "# TODO: Ask if we can use the mnist dataset given by pytorch\n",
    "\n",
    "# Load the training and the test set.\n",
    "training_data, training_labels = load_data(TRAIN_DATASET)\n",
    "test_data, test_labels = load_data(TEST_DATASET)"
   ]
  },
  {
   "cell_type": "code",
   "execution_count": 3,
   "metadata": {},
   "outputs": [],
   "source": [
    "# split the training set in 2. The training set 85% and the validation set 15%.\n",
    "\n",
    "# TODO: ask if we have to perform a cross validation because the dataset is big enough to not necessarily need\n",
    "#       to do a cross validation for the validation step.\n",
    "size_train = int(training_data.shape[0]*0.85)\n",
    "size_val = training_data.shape[0]-size_train\n",
    "\n",
    "indices = np.random.permutation(training_data.shape[0])\n",
    "train_idx, val_idx = indices[:size_train], indices[size_train:]\n",
    "\n",
    "train_data, val_data = training_data[train_idx,:], training_data[val_idx,:]\n",
    "train_labels, val_labels = training_labels[train_idx], training_labels[val_idx]"
   ]
  },
  {
   "cell_type": "code",
   "execution_count": 4,
   "metadata": {},
   "outputs": [],
   "source": [
    "# Create MnistDataset\n",
    "class MnistDataset(Dataset):\n",
    "    def __init__(self, data, target):\n",
    "        self.data = data\n",
    "        self.target = target\n",
    "        \n",
    "    def __getitem__(self, index):\n",
    "        datapoint = self.data[index]\n",
    "        target = self.target[index]\n",
    "        return torch.tensor(datapoint, dtype=torch.float),\\\n",
    "               torch.tensor(target, dtype=torch.long)\n",
    "    \n",
    "    def __len__(self):\n",
    "        return len(self.data)"
   ]
  },
  {
   "cell_type": "code",
   "execution_count": 5,
   "metadata": {},
   "outputs": [],
   "source": [
    "batch_size = 32\n",
    "    \n",
    "# Create dataset\n",
    "train_dataset = MnistDataset(train_data, train_labels)\n",
    "val_dataset = MnistDataset(val_data, val_labels)\n",
    "test_dataset = MnistDataset(test_data, test_labels)\n",
    "\n",
    "# Create data loader\n",
    "train_loader = DataLoader(train_dataset, batch_size=batch_size, shuffle=True)\n",
    "val_loader = DataLoader(val_dataset, batch_size=batch_size, shuffle=True)\n",
    "test_loader = DataLoader(test_dataset, batch_size=batch_size, shuffle=False)"
   ]
  },
  {
   "cell_type": "code",
   "execution_count": 6,
   "metadata": {},
   "outputs": [],
   "source": [
    "class NeuralNetwork(nn.Module):\n",
    "    \n",
    "    def __init__(self, input_dim, hidden_dim, output_dim):\n",
    "        super(NeuralNetwork, self).__init__()\n",
    "        self.layers = nn.Sequential(\n",
    "            nn.Linear(input_dim, hidden_dim),\n",
    "            nn.ReLU(),\n",
    "            nn.Linear(hidden_dim, output_dim)\n",
    "        )\n",
    "        \n",
    "    def forward(self, input_):\n",
    "        return self.layers(input_)\n"
   ]
  },
  {
   "cell_type": "code",
   "execution_count": 7,
   "metadata": {},
   "outputs": [],
   "source": [
    "def plot_graph(nb_epochs, train, val, step):\n",
    "    plt.figure()\n",
    "    plt.plot(np.arange(nb_epochs), train)\n",
    "    plt.plot(np.arange(nb_epochs), val)\n",
    "    plt.legend(['training', 'validation'])\n",
    "    plt.xlabel('epoch')\n",
    "    plt.ylabel(f'{step} value')\n",
    "    plt.title(f'Train/val {step}');\n",
    "        \n",
    "    plt.show()"
   ]
  },
  {
   "cell_type": "code",
   "execution_count": 8,
   "metadata": {},
   "outputs": [
    {
     "name": "stdout",
     "output_type": "stream",
     "text": [
      "Hidden dim: 10, learning rate: 0.1\n",
      "Train_loss: 2.302 |                Val_loss: 2.302 |                Train_acc: 11.261 |                Val_acc: 10.333\n",
      "Hidden dim: 10, learning rate: 0.01\n",
      "Train_loss: 2.097 |                Val_loss: 2.201 |                Train_acc: 19.125 |                Val_acc: 19.689\n",
      "Hidden dim: 10, learning rate: 0.001\n",
      "Train_loss: 0.974 |                Val_loss: 1.429 |                Train_acc: 69.167 |                Val_acc: 55.300\n",
      "Hidden dim: 20, learning rate: 0.1\n",
      "Train_loss: 2.302 |                Val_loss: 2.302 |                Train_acc: 11.220 |                Val_acc: 10.967\n",
      "Hidden dim: 20, learning rate: 0.01\n",
      "Train_loss: 2.301 |                Val_loss: 2.301 |                Train_acc: 11.284 |                Val_acc: 10.967\n",
      "Hidden dim: 20, learning rate: 0.001\n",
      "Train_loss: 0.238 |                Val_loss: 0.301 |                Train_acc: 93.184 |                Val_acc: 91.978\n",
      "Hidden dim: 30, learning rate: 0.1\n",
      "Train_loss: 2.302 |                Val_loss: 2.302 |                Train_acc: 11.141 |                Val_acc: 10.967\n",
      "Hidden dim: 30, learning rate: 0.01\n",
      "Train_loss: 2.301 |                Val_loss: 2.301 |                Train_acc: 11.284 |                Val_acc: 10.978\n",
      "Hidden dim: 30, learning rate: 0.001\n",
      "Train_loss: 0.271 |                Val_loss: 0.330 |                Train_acc: 92.171 |                Val_acc: 90.944\n",
      "Hidden dim: 40, learning rate: 0.1\n",
      "Train_loss: 2.302 |                Val_loss: 464.362 |                Train_acc: 11.208 |                Val_acc: 10.956\n",
      "Hidden dim: 40, learning rate: 0.01\n",
      "Train_loss: 2.301 |                Val_loss: 2.301 |                Train_acc: 11.284 |                Val_acc: 10.967\n",
      "Hidden dim: 40, learning rate: 0.001\n",
      "Train_loss: 0.121 |                Val_loss: 0.223 |                Train_acc: 96.414 |                Val_acc: 94.400\n",
      "Hidden dim: 50, learning rate: 0.1\n",
      "Train_loss: 2.302 |                Val_loss: 2.302 |                Train_acc: 11.176 |                Val_acc: 10.967\n",
      "Hidden dim: 50, learning rate: 0.01\n",
      "Train_loss: 2.301 |                Val_loss: 2.301 |                Train_acc: 11.284 |                Val_acc: 10.967\n",
      "Hidden dim: 50, learning rate: 0.001\n",
      "Train_loss: 0.103 |                Val_loss: 0.182 |                Train_acc: 96.855 |                Val_acc: 95.178\n",
      "Hidden dim: 60, learning rate: 0.1\n",
      "Train_loss: 2.302 |                Val_loss: 2.302 |                Train_acc: 11.141 |                Val_acc: 10.967\n",
      "Hidden dim: 60, learning rate: 0.01\n",
      "Train_loss: 1.988 |                Val_loss: 2.096 |                Train_acc: 26.759 |                Val_acc: 23.922\n",
      "Hidden dim: 60, learning rate: 0.001\n",
      "Train_loss: 0.107 |                Val_loss: 0.186 |                Train_acc: 96.735 |                Val_acc: 95.122\n",
      "Hidden dim: 70, learning rate: 0.1\n",
      "Train_loss: 2.302 |                Val_loss: 2.301 |                Train_acc: 11.165 |                Val_acc: 10.967\n",
      "Hidden dim: 70, learning rate: 0.01\n",
      "Train_loss: 2.102 |                Val_loss: 2.643 |                Train_acc: 18.978 |                Val_acc: 20.411\n",
      "Hidden dim: 70, learning rate: 0.001\n",
      "Train_loss: 0.062 |                Val_loss: 0.177 |                Train_acc: 98.014 |                Val_acc: 95.344\n",
      "Hidden dim: 80, learning rate: 0.1\n",
      "Train_loss: 2.301 |                Val_loss: 2.302 |                Train_acc: 11.122 |                Val_acc: 10.967\n",
      "Hidden dim: 80, learning rate: 0.01\n",
      "Train_loss: 2.164 |                Val_loss: 2.222 |                Train_acc: 17.067 |                Val_acc: 17.422\n",
      "Hidden dim: 80, learning rate: 0.001\n",
      "Train_loss: 0.063 |                Val_loss: 0.177 |                Train_acc: 98.000 |                Val_acc: 95.711\n",
      "Hidden dim: 90, learning rate: 0.1\n",
      "Train_loss: 2.302 |                Val_loss: 2.302 |                Train_acc: 11.155 |                Val_acc: 10.967\n",
      "Hidden dim: 90, learning rate: 0.01\n",
      "Train_loss: 2.260 |                Val_loss: 2.287 |                Train_acc: 13.531 |                Val_acc: 12.033\n",
      "Hidden dim: 90, learning rate: 0.001\n",
      "Train_loss: 0.053 |                Val_loss: 0.165 |                Train_acc: 98.380 |                Val_acc: 95.578\n",
      "Hidden dim: 100, learning rate: 0.1\n",
      "Train_loss: 2.302 |                Val_loss: 2.302 |                Train_acc: 11.143 |                Val_acc: 10.967\n",
      "Hidden dim: 100, learning rate: 0.01\n",
      "Train_loss: 2.301 |                Val_loss: 2.301 |                Train_acc: 11.284 |                Val_acc: 10.978\n",
      "Hidden dim: 100, learning rate: 0.001\n",
      "Train_loss: 0.037 |                Val_loss: 0.167 |                Train_acc: 98.796 |                Val_acc: 96.144\n",
      "\n",
      "\n",
      "Best parameters: 100 hidden dim, 0.001 learning_rate and validation accuracies: 96.14%\n"
     ]
    },
    {
     "data": {
      "image/png": "[encoded data removed]",
      "text/plain": [
       "<Figure size 432x288 with 1 Axes>"
      ]
     },
     "metadata": {
      "needs_background": "light"
     },
     "output_type": "display_data"
    },
    {
     "data": {
      "image/png": "[encoded data removed]",
      "text/plain": [
       "<Figure size 432x288 with 1 Axes>"
      ]
     },
     "metadata": {
      "needs_background": "light"
     },
     "output_type": "display_data"
    }
   ],
   "source": [
    "input_dim = 28*28\n",
    "hidden_dims = [i for i in range(10, 101, 10)]\n",
    "output_dim = 10\n",
    "l_rates = [1*10**-i for i in range(1, 4)]\n",
    "nb_epochs = 15\n",
    "trainer = TrainHelper(nb_epochs)\n",
    "\n",
    "# best parameters: (validation acc, hidden dim, learning rate)\n",
    "best_parameters = (float(\"-INF\"), None, None, None)\n",
    "# keep a copy of the best trained network\n",
    "best_model = None\n",
    "\n",
    "loss_function = nn.CrossEntropyLoss()\n",
    "\n",
    "for hidden_dim, l_rate in product(hidden_dims, l_rates):\n",
    "    neural_net = NeuralNetwork(input_dim, hidden_dim, output_dim)\n",
    "    optimizer = torch.optim.SGD(neural_net.parameters(), l_rate)\n",
    "    \n",
    "    \n",
    "    print(f'Hidden dim: {hidden_dim}, learning rate: {l_rate}')\n",
    "    stats_training = trainer.fit(neural_net,\n",
    "                                 train_loader,\n",
    "                                 val_loader,\n",
    "                                 optimizer,\n",
    "                                 loss_function)\n",
    "    \n",
    "    if stats_training[3][-1] > best_parameters[0]:\n",
    "        best_parameters = (stats_training[3][-1], hidden_dim, l_rate, stats_training)\n",
    "        best_model = deepcopy(neural_net)\n",
    "\n",
    "best_acc, best_hidden_dim, best_l_rate, best_stats = best_parameters\n",
    "train_losses, val_losses, train_accuracies, val_accuracies = best_stats\n",
    "\n",
    "print(f'\\n\\nBest parameters: {best_hidden_dim} hidden dim, \\\n",
    "{best_l_rate} learning_rate and validation accuracies: {best_acc:.2f}%')\n",
    "\n",
    "plot_graph(nb_epochs, train_losses, val_losses, \"Loss\")\n",
    "plot_graph(nb_epochs, train_accuracies, val_accuracies, \"Accuracy\")"
   ]
  },
  {
   "cell_type": "code",
   "execution_count": 9,
   "metadata": {},
   "outputs": [],
   "source": [
    "# Create dataset with full training set for training the final model\n",
    "train_full_dataset = MnistDataset(training_data, training_labels)\n",
    "train_full_loader = DataLoader(train_full_dataset, batch_size=batch_size, shuffle=True)\n",
    "\n",
    "# Train model with the best parameters\n",
    "best_neural_net = NeuralNetwork(input_dim, best_hidden_dim, output_dim)\n",
    "best_optimizer = torch.optim.SGD(best_neural_net.parameters(), best_l_rate)\n",
    "loss_function = nn.CrossEntropyLoss()\n",
    "\n",
    "for _ in range(nb_epochs):\n",
    "    trainer.train(best_neural_net, train_full_loader, best_optimizer, loss_function)"
   ]
  },
  {
   "cell_type": "code",
   "execution_count": 10,
   "metadata": {},
   "outputs": [
    {
     "name": "stdout",
     "output_type": "stream",
     "text": [
      "Accuracy on the test dataset 96.66%\n"
     ]
    }
   ],
   "source": [
    "loss_test, acc_test = trainer.validation(best_neural_net, test_loader, loss_function)\n",
    "print(f'Accuracy on the test dataset {acc_test:.2f}%')"
   ]
  },
  {
   "cell_type": "code",
   "execution_count": null,
   "metadata": {},
   "outputs": [],
   "source": []
  }
 ],
 "metadata": {
  "kernelspec": {
   "display_name": "Python 3",
   "language": "python",
   "name": "python3"
  },
  "language_info": {
   "codemirror_mode": {
    "name": "ipython",
    "version": 3
   },
   "file_extension": ".py",
   "mimetype": "text/x-python",
   "name": "python",
   "nbconvert_exporter": "python",
   "pygments_lexer": "ipython3",
   "version": "3.6.8"
  }
 },
 "nbformat": 4,
 "nbformat_minor": 2
}
