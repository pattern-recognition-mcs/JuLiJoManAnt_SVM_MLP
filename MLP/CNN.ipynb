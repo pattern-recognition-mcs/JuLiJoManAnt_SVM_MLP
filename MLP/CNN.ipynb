{
 "cells": [
  {
   "cell_type": "code",
   "execution_count": null,
   "metadata": {},
   "outputs": [],
   "source": [
    "# Import module\n",
    "%matplotlib inline\n",
    "import matplotlib.pyplot as plt\n",
    "import numpy as np\n",
    "import torch\n",
    "import torch.nn as nn\n",
    "import torchvision\n",
    "from torchvision import transforms, datasets\n",
    "\n",
    "from copy import deepcopy\n",
    "from itertools import product\n",
    "from torch.utils.data import Dataset\n",
    "from torch.utils.data import DataLoader\n",
    "\n",
    "from train_tools import TrainHelper\n",
    "from model_task2c import PR_CNN"
   ]
  },
  {
   "cell_type": "code",
   "execution_count": null,
   "metadata": {},
   "outputs": [],
   "source": [
    "# load data\n",
    "TRAIN_DATASET = \"./../data/png/mnist/train\"\n",
    "VALIDATION_DATASET = \"./../data/png/mnist/val\"\n",
    "TEST_DATASET = \"./../data/png/mnist/test\"\n",
    "\n",
    "transform = transforms.Compose(\n",
    "    [transforms.ToTensor(),\n",
    "     transforms.Normalize((0.5,), (0.5,))])\n",
    "\n",
    "train_dataset = datasets.ImageFolder(root=TRAIN_DATASET,\n",
    "                                     transform=transform)\n",
    "val_dataset = datasets.ImageFolder(root=VALIDATION_DATASET,\n",
    "                                     transform=transform)\n",
    "test_dataset = datasets.ImageFolder(root=TEST_DATASET,\n",
    "                                     transform=transform)\n",
    "\n",
    "params = {'batch_size': 64,\n",
    "          'shuffle': True}\n",
    "\n",
    "train_loader = torch.utils.data.DataLoader(train_dataset, **params)\n",
    "val_loader = torch.utils.data.DataLoader(val_dataset, **params)\n",
    "test_loader = torch.utils.data.DataLoader(test_dataset, **params)"
   ]
  },
  {
   "cell_type": "code",
   "execution_count": null,
   "metadata": {},
   "outputs": [],
   "source": [
    "def plot_graph(nb_epochs, train, val, step):\n",
    "    plt.figure()\n",
    "    plt.plot(np.arange(nb_epochs), train)\n",
    "    plt.plot(np.arange(nb_epochs), val)\n",
    "    plt.legend(['training', 'validation'])\n",
    "    plt.xlabel('epoch')\n",
    "    plt.ylabel(f'{step} value')\n",
    "    plt.title(f'Train/val {step}');\n",
    "        \n",
    "    plt.show()"
   ]
  },
  {
   "cell_type": "code",
   "execution_count": null,
   "metadata": {},
   "outputs": [],
   "source": [
    "l_rates = [1*10**-i for i in range(1, 4)]\n",
    "nb_epochs = 5\n",
    "trainer = TrainHelper(nb_epochs)\n",
    "\n",
    "# best parameters: (validation acc, learning rate)\n",
    "best_parameters = (float(\"-INF\"), None, None)\n",
    "# keep a copy of the best trained network\n",
    "best_model = None\n",
    "\n",
    "loss_function = nn.CrossEntropyLoss()\n",
    "\n",
    "for l_rate in l_rates:\n",
    "    neural_net = PR_CNN()\n",
    "    optimizer = torch.optim.SGD(neural_net.parameters(), l_rate)\n",
    "    \n",
    "    print(f'learning rate: {l_rate}')\n",
    "    stats_training = trainer.fit(neural_net,\n",
    "                            train_loader,\n",
    "                            val_loader,\n",
    "                            optimizer,\n",
    "                            loss_function)\n",
    "    \n",
    "    if stats_training[3][-1] > best_parameters[0]:\n",
    "        best_parameters = (stats_training[3][-1], l_rate, stats_training)\n",
    "        best_model = deepcopy(neural_net)\n",
    "\n",
    "best_acc, best_l_rate, best_stats = best_parameters\n",
    "train_losses, val_losses, train_accuracies, val_accuracies = best_stats\n",
    "\n",
    "print(f'\\n\\nBest parameters: {best_l_rate} learning_rate and validation accuracies: {best_acc:.2f}%')\n",
    "\n",
    "plot_graph(nb_epochs, train_losses, val_losses, \"Loss\")\n",
    "plot_graph(nb_epochs, train_accuracies, val_accuracies, \"Accuracy\")"
   ]
  },
  {
   "cell_type": "code",
   "execution_count": 5,
   "metadata": {},
   "outputs": [
    {
     "name": "stdout",
     "output_type": "stream",
     "text": [
      "Accuracy on the test dataset 97.75%\n"
     ]
    }
   ],
   "source": [
    "loss_test, acc_test = trainer.validation(best_model, test_loader, loss_function)\n",
    "print(f'Accuracy on the test dataset {acc_test:.2f}%')"
   ]
  },
  {
   "cell_type": "code",
   "execution_count": null,
   "metadata": {},
   "outputs": [],
   "source": []
  }
 ],
 "metadata": {
  "kernelspec": {
   "display_name": "Python 3",
   "language": "python",
   "name": "python3"
  },
  "language_info": {
   "codemirror_mode": {
    "name": "ipython",
    "version": 3
   },
   "file_extension": ".py",
   "mimetype": "text/x-python",
   "name": "python",
   "nbconvert_exporter": "python",
   "pygments_lexer": "ipython3",
   "version": "3.7.3"
  }
 },
 "nbformat": 4,
 "nbformat_minor": 2
}
