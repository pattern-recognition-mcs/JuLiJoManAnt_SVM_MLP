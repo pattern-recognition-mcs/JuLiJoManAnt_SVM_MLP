{
 "cells": [
  {
   "cell_type": "code",
   "execution_count": 9,
   "metadata": {},
   "outputs": [],
   "source": [
    "# Import module\n",
    "%matplotlib inline\n",
    "import matplotlib.pyplot as plt\n",
    "import numpy as np\n",
    "from sklearn import svm, datasets\n",
    "from sklearn.model_selection import GridSearchCV\n"
   ]
  },
  {
   "cell_type": "code",
   "execution_count": 19,
   "metadata": {},
   "outputs": [
    {
     "name": "stdout",
     "output_type": "stream",
     "text": [
      "> mnist_train.csv loaded\n",
      "> mnist_test.csv loaded\n"
     ]
    }
   ],
   "source": [
    "# load data\n",
    "TRAIN_DATASET = \"./../data/csv/mnist_train.csv\"\n",
    "TEST_DATASET = \"./../data/csv/mnist_test.csv\"\n",
    "\n",
    "\n",
    "def load_data(filename):\n",
    "    \"\"\"Load the data of the file given in parameter.\"\"\"\n",
    "    \n",
    "    data = np.loadtxt(filename, delimiter=\",\")\n",
    "    train = np.asfarray(data[:, 1:])\n",
    "    labels = np.reshape(data[:, :1], -1)\n",
    "    \n",
    "    #Random data for Cross-validation\n",
    "    random_indices = np.random.randint(0,data.shape[0],1000)\n",
    "    random_data = data[random_indices]\n",
    "    trainingShort = np.asfarray(random_data[:, 1:])\n",
    "    labelsShort = np.reshape(random_data[:, :1],-1)\n",
    "\n",
    "    print(\"> {} loaded\".format(filename.split(\"/\")[-1]))\n",
    "    \n",
    "    return train, labels, trainingShort, labelsShort\n",
    "\n",
    "# Load the training and the test set.\n",
    "training_data, training_labels, training_dataShort, training_labelsShort = load_data(TRAIN_DATASET)\n",
    "test_data, test_labels, test_dataShort, test_labelsShort = load_data(TEST_DATASET)"
   ]
  },
  {
   "cell_type": "markdown",
   "metadata": {},
   "source": [
    "# SVM scikit-learn\n",
    "* First classifier with default values to see the difference in terms of accuracy between an optimized classifier and an not optimized one\n",
    "* Second classifier with cross-validation on 1000 random digits from the entire training data set to find the best parameters \n",
    "* These paremeters will be used for the SVM applied on the entire data test set \n"
   ]
  },
  {
   "cell_type": "code",
   "execution_count": 45,
   "metadata": {},
   "outputs": [
    {
     "name": "stdout",
     "output_type": "stream",
     "text": [
      "> The best parameters are:  {'C': 1, 'gamma': 1, 'kernel': 'linear'}\n"
     ]
    }
   ],
   "source": [
    "# SVM of sklearn \n",
    "\n",
    "# First classifier with default values -> Not optimized\"\n",
    "clfNotOptimized = svm.SVC(gamma='auto')\n",
    "clfNotOptimized.fit(training_dataShort, training_labelsShort)\n",
    "\n",
    "# Second classifier -> optimized with cross-validation to get the best parameters\n",
    "parameters = {'kernel':('rbf','linear'), 'C':[1, 10, 100, 10000], 'gamma':[1, 10, 100, 1000]}\n",
    "nb_folds = 5\n",
    "svc = svm.SVC()\n",
    "clf = GridSearchCV(svc, parameters, cv=nb_folds)\n",
    "clf.fit(training_dataShort, training_labelsShort)\n",
    "print(\"> The best parameters are: \", clf.best_params_)\n",
    "\n",
    "\n"
   ]
  },
  {
   "cell_type": "code",
   "execution_count": 47,
   "metadata": {},
   "outputs": [
    {
     "name": "stdout",
     "output_type": "stream",
     "text": [
      "> Accuracy of the default classifier: 9.58 %\n",
      "> Accuracy of the classifier with best parameters: 88.33 %\n"
     ]
    }
   ],
   "source": [
    "from sklearn import metrics\n",
    "y1_pred = clfNotOptimized.predict(test_data)\n",
    "y2_pred = clf.predict(test_data)\n",
    "\n",
    "print(\"> Accuracy of the default classifier:\",metrics.accuracy_score(test_labels, y1_pred)*100,\"%\")\n",
    "print(\"> Accuracy of the classifier with best parameters:\",metrics.accuracy_score(test_labels, y2_pred)*100,\"%\")"
   ]
  }
 ],
 "metadata": {
  "kernelspec": {
   "display_name": "Python 3",
   "language": "python",
   "name": "python3"
  },
  "language_info": {
   "codemirror_mode": {
    "name": "ipython",
    "version": 3
   },
   "file_extension": ".py",
   "mimetype": "text/x-python",
   "name": "python",
   "nbconvert_exporter": "python",
   "pygments_lexer": "ipython3",
   "version": "3.7.1"
  }
 },
 "nbformat": 4,
 "nbformat_minor": 2
}
