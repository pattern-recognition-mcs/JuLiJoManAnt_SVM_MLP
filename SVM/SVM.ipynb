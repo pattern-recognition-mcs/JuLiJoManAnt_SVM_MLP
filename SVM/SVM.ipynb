{
 "cells": [
  {
   "cell_type": "code",
   "execution_count": 1,
   "metadata": {},
   "outputs": [],
   "source": [
    "# Import module\n",
    "%matplotlib inline\n",
    "import matplotlib.pyplot as plt\n",
    "import numpy as np\n",
    "from sklearn import svm, datasets\n",
    "from sklearn.model_selection import GridSearchCV"
   ]
  },
  {
   "cell_type": "code",
   "execution_count": 5,
   "metadata": {},
   "outputs": [
    {
     "name": "stdout",
     "output_type": "stream",
     "text": [
      "> train.csv loaded\n",
      "> test.csv loaded\n"
     ]
    }
   ],
   "source": [
    "# load data\n",
    "TRAIN_DATASET = \"./../data/csv/train.csv\"\n",
    "TEST_DATASET = \"./../data/csv/test.csv\"\n",
    "\n",
    "\n",
    "def load_data(filename):\n",
    "    \"\"\"Load the data of the file given in parameter.\"\"\"\n",
    "    \n",
    "    data = np.loadtxt(filename, delimiter=\",\")\n",
    "    train = np.asfarray(data[:, 1:])\n",
    "    labels = np.reshape(data[:, :1], -1)\n",
    "    trainingShort = np.asfarray(data[:1000, 1:])\n",
    "    labelsShort = np.reshape(data[:1000, :1],-1)\n",
    "\n",
    "    print(\"> {} loaded\".format(filename.split(\"/\")[-1]))\n",
    "    \n",
    "    return train, labels, trainingShort, labelsShort\n",
    "\n",
    "# Load the training and the test set.\n",
    "training_data, training_labels, training_dataShort, training_labelsShort = load_data(TRAIN_DATASET)\n",
    "test_data, test_labels, test_dataShort, test_labelsShort = load_data(TEST_DATASET)"
   ]
  },
  {
   "cell_type": "markdown",
   "metadata": {},
   "source": [
    "# SVM scikit-learn\n",
    "* This SVM works but is too slow for the entire data set\n",
    "* Here the output was produced using the 1000 first digits of the entire data set"
   ]
  },
  {
   "cell_type": "code",
   "execution_count": 7,
   "metadata": {},
   "outputs": [
    {
     "name": "stdout",
     "output_type": "stream",
     "text": [
      "{'C': 1, 'gamma': 1, 'kernel': 'linear'}\n"
     ]
    }
   ],
   "source": [
    "# SVM of sklearn \n",
    "parameters = {'kernel':('rbf','linear'), 'C':[1, 10, 100, 10000], 'gamma':[1, 10, 100, 1000]}\n",
    "svc = svm.SVC()\n",
    "clf = GridSearchCV(svc, parameters, cv=5)\n",
    "clf.fit(training_dataShort, training_labelsShort)\n",
    "print(clf.best_params_)\n"
   ]
  },
  {
   "cell_type": "code",
   "execution_count": 8,
   "metadata": {},
   "outputs": [
    {
     "name": "stdout",
     "output_type": "stream",
     "text": [
      "Accuracy: 89.35404306379576 %\n"
     ]
    }
   ],
   "source": [
    "from sklearn import metrics\n",
    "y_pred = clf.predict(test_data)\n",
    "print(\"Accuracy:\",metrics.accuracy_score(test_labels, y_pred)*100,\"%\")"
   ]
  }
 ],
 "metadata": {
  "kernelspec": {
   "display_name": "Python 3",
   "language": "python",
   "name": "python3"
  },
  "language_info": {
   "codemirror_mode": {
    "name": "ipython",
    "version": 3
   },
   "file_extension": ".py",
   "mimetype": "text/x-python",
   "name": "python",
   "nbconvert_exporter": "python",
   "pygments_lexer": "ipython3",
   "version": "3.7.1"
  }
 },
 "nbformat": 4,
 "nbformat_minor": 2
}
